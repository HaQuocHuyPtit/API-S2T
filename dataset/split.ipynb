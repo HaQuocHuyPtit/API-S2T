{
 "cells": [
  {
   "cell_type": "code",
   "execution_count": 1,
   "metadata": {
    "collapsed": true
   },
   "outputs": [],
   "source": [
    "import pandas as pd"
   ]
  },
  {
   "cell_type": "code",
   "execution_count": 2,
   "outputs": [],
   "source": [
    "file = pd.read_csv(\"audio.csv\")"
   ],
   "metadata": {
    "collapsed": false
   }
  },
  {
   "cell_type": "code",
   "execution_count": 3,
   "outputs": [
    {
     "data": {
      "text/plain": "100"
     },
     "execution_count": 3,
     "metadata": {},
     "output_type": "execute_result"
    }
   ],
   "source": [
    "len(file)"
   ],
   "metadata": {
    "collapsed": false
   }
  },
  {
   "cell_type": "code",
   "execution_count": 6,
   "outputs": [],
   "source": [
    "training_set = file[: 80]\n",
    "dev_set = file[80: ]"
   ],
   "metadata": {
    "collapsed": false
   }
  },
  {
   "cell_type": "code",
   "execution_count": 7,
   "outputs": [
    {
     "name": "stdout",
     "output_type": "stream",
     "text": [
      "80\n",
      "20\n"
     ]
    }
   ],
   "source": [
    "print(len(training_set))\n",
    "print(len(dev_set))"
   ],
   "metadata": {
    "collapsed": false
   }
  },
  {
   "cell_type": "code",
   "execution_count": 8,
   "outputs": [
    {
     "data": {
      "text/plain": "                   path                                         transcript  \\\n0   881897068939900.mp3  dạ mobifone xin nghe em là minh anh có thể giú...   \n1   881897068939901.mp3  dạ mobifone xin nghe em tên lý xin phép hỗ trợ...   \n2   881897068939902.mp3  dạ mobifone xin nghe em là xuân có thể giúp gì...   \n3   881897068939903.mp3  dạ mobifone xin nghe em tên trân xin phép hỗ t...   \n4   881897068939904.mp3  dạ mobifone xin nghe em là dung em có thể hỗ t...   \n..                  ...                                                ...   \n75  881897068939975.mp3  cám ơn anh đợi máy ạ em thấy giờ cái số của mì...   \n76  881897068939976.mp3  dạ mobifone xin nghe em tên huyền em có thể gi...   \n77  881897068939977.mp3  dạ mobifone xin nghe em tên hùng em có thể giú...   \n78  881897068939978.mp3  dạ mobifone xin nghe em tên là mai em có thể g...   \n79  881897068939979.mp3  dạ allo tổng đài mobifone xin nghe em tên nguy...   \n\n    duration  \n0      45.12  \n1     145.02  \n2     128.52  \n3      54.60  \n4      90.90  \n..       ...  \n75     72.90  \n76     81.72  \n77     65.88  \n78     61.98  \n79    121.86  \n\n[80 rows x 3 columns]",
      "text/html": "<div>\n<style scoped>\n    .dataframe tbody tr th:only-of-type {\n        vertical-align: middle;\n    }\n\n    .dataframe tbody tr th {\n        vertical-align: top;\n    }\n\n    .dataframe thead th {\n        text-align: right;\n    }\n</style>\n<table border=\"1\" class=\"dataframe\">\n  <thead>\n    <tr style=\"text-align: right;\">\n      <th></th>\n      <th>path</th>\n      <th>transcript</th>\n      <th>duration</th>\n    </tr>\n  </thead>\n  <tbody>\n    <tr>\n      <th>0</th>\n      <td>881897068939900.mp3</td>\n      <td>dạ mobifone xin nghe em là minh anh có thể giú...</td>\n      <td>45.12</td>\n    </tr>\n    <tr>\n      <th>1</th>\n      <td>881897068939901.mp3</td>\n      <td>dạ mobifone xin nghe em tên lý xin phép hỗ trợ...</td>\n      <td>145.02</td>\n    </tr>\n    <tr>\n      <th>2</th>\n      <td>881897068939902.mp3</td>\n      <td>dạ mobifone xin nghe em là xuân có thể giúp gì...</td>\n      <td>128.52</td>\n    </tr>\n    <tr>\n      <th>3</th>\n      <td>881897068939903.mp3</td>\n      <td>dạ mobifone xin nghe em tên trân xin phép hỗ t...</td>\n      <td>54.60</td>\n    </tr>\n    <tr>\n      <th>4</th>\n      <td>881897068939904.mp3</td>\n      <td>dạ mobifone xin nghe em là dung em có thể hỗ t...</td>\n      <td>90.90</td>\n    </tr>\n    <tr>\n      <th>...</th>\n      <td>...</td>\n      <td>...</td>\n      <td>...</td>\n    </tr>\n    <tr>\n      <th>75</th>\n      <td>881897068939975.mp3</td>\n      <td>cám ơn anh đợi máy ạ em thấy giờ cái số của mì...</td>\n      <td>72.90</td>\n    </tr>\n    <tr>\n      <th>76</th>\n      <td>881897068939976.mp3</td>\n      <td>dạ mobifone xin nghe em tên huyền em có thể gi...</td>\n      <td>81.72</td>\n    </tr>\n    <tr>\n      <th>77</th>\n      <td>881897068939977.mp3</td>\n      <td>dạ mobifone xin nghe em tên hùng em có thể giú...</td>\n      <td>65.88</td>\n    </tr>\n    <tr>\n      <th>78</th>\n      <td>881897068939978.mp3</td>\n      <td>dạ mobifone xin nghe em tên là mai em có thể g...</td>\n      <td>61.98</td>\n    </tr>\n    <tr>\n      <th>79</th>\n      <td>881897068939979.mp3</td>\n      <td>dạ allo tổng đài mobifone xin nghe em tên nguy...</td>\n      <td>121.86</td>\n    </tr>\n  </tbody>\n</table>\n<p>80 rows × 3 columns</p>\n</div>"
     },
     "execution_count": 8,
     "metadata": {},
     "output_type": "execute_result"
    }
   ],
   "source": [
    "training_set"
   ],
   "metadata": {
    "collapsed": false
   }
  },
  {
   "cell_type": "code",
   "execution_count": 9,
   "outputs": [
    {
     "data": {
      "text/plain": "                   path                                         transcript  \\\n80  881897068939980.mp3  dạ mobifone xin nghe em xin phép hỗ trợ anh ch...   \n81  881897068939981.mp3  tổng đài mobifone xin nghe em tên nhung có hỗ ...   \n82  881897068939982.mp3  dạ mobifone nghe em tên là yến em xin phép hỗ ...   \n83  881897068939983.mp3  dạ mobifone xin nghe em tên trang có thể hỗ tr...   \n84  881897068939984.mp3  dạ mobifone xin nghe em tên trân em xin phép h...   \n85  881897068939985.mp3  dạ a lô mobifone xin nghe tên giang xin phép đ...   \n86  881897068939986.mp3  a lô dạ a lô dạ em chào anh em tên hương gọi r...   \n87  881897068939987.mp3                                                NaN   \n88  881897068939988.mp3  dạ mobifone xin nghe em tên kiệt có thể hỗ trợ...   \n89  881897068939989.mp3  dạ mobifone xin nghe em tên vy em xin phép đượ...   \n90  881897068939990.mp3  dạ a lô a lô ạ a lô chào anh nha em bên mobifo...   \n91  881897068939991.mp3  dạ mobifone xin nghe em là thủy em có thể giúp...   \n92  881897068939992.mp3  dạ mobifone xin nghe em là minh anh em có thể ...   \n93  881897068939993.mp3  dạ mobifone xin nghe em là lựu em có thể giúp ...   \n94  881897068939994.mp3  a lô chào anh em gọi cho mình từ bên tổng đài ...   \n95  881897068939995.mp3  ờ a lô a lô dạ xin chào anh ạ em là sim số chí...   \n96  881897068939996.mp3                                                NaN   \n97  881897068939997.mp3  dạ mobifone xin nghe em tên ngân em có thể giú...   \n98  881897068939998.mp3                                                NaN   \n99  881897068939999.mp3                                                NaN   \n\n    duration  \n80   31.9200  \n81   53.6400  \n82   71.2200  \n83   84.3600  \n84  112.5600  \n85   20.7000  \n86   70.2600  \n87   15.0150  \n88    3.0000  \n89   98.6400  \n90   70.2000  \n91   96.9600  \n92   60.7200  \n93   11.4600  \n94   34.6800  \n95   74.5200  \n96   12.9675  \n97   21.0600  \n98   12.2850  \n99   11.6025  ",
      "text/html": "<div>\n<style scoped>\n    .dataframe tbody tr th:only-of-type {\n        vertical-align: middle;\n    }\n\n    .dataframe tbody tr th {\n        vertical-align: top;\n    }\n\n    .dataframe thead th {\n        text-align: right;\n    }\n</style>\n<table border=\"1\" class=\"dataframe\">\n  <thead>\n    <tr style=\"text-align: right;\">\n      <th></th>\n      <th>path</th>\n      <th>transcript</th>\n      <th>duration</th>\n    </tr>\n  </thead>\n  <tbody>\n    <tr>\n      <th>80</th>\n      <td>881897068939980.mp3</td>\n      <td>dạ mobifone xin nghe em xin phép hỗ trợ anh ch...</td>\n      <td>31.9200</td>\n    </tr>\n    <tr>\n      <th>81</th>\n      <td>881897068939981.mp3</td>\n      <td>tổng đài mobifone xin nghe em tên nhung có hỗ ...</td>\n      <td>53.6400</td>\n    </tr>\n    <tr>\n      <th>82</th>\n      <td>881897068939982.mp3</td>\n      <td>dạ mobifone nghe em tên là yến em xin phép hỗ ...</td>\n      <td>71.2200</td>\n    </tr>\n    <tr>\n      <th>83</th>\n      <td>881897068939983.mp3</td>\n      <td>dạ mobifone xin nghe em tên trang có thể hỗ tr...</td>\n      <td>84.3600</td>\n    </tr>\n    <tr>\n      <th>84</th>\n      <td>881897068939984.mp3</td>\n      <td>dạ mobifone xin nghe em tên trân em xin phép h...</td>\n      <td>112.5600</td>\n    </tr>\n    <tr>\n      <th>85</th>\n      <td>881897068939985.mp3</td>\n      <td>dạ a lô mobifone xin nghe tên giang xin phép đ...</td>\n      <td>20.7000</td>\n    </tr>\n    <tr>\n      <th>86</th>\n      <td>881897068939986.mp3</td>\n      <td>a lô dạ a lô dạ em chào anh em tên hương gọi r...</td>\n      <td>70.2600</td>\n    </tr>\n    <tr>\n      <th>87</th>\n      <td>881897068939987.mp3</td>\n      <td>NaN</td>\n      <td>15.0150</td>\n    </tr>\n    <tr>\n      <th>88</th>\n      <td>881897068939988.mp3</td>\n      <td>dạ mobifone xin nghe em tên kiệt có thể hỗ trợ...</td>\n      <td>3.0000</td>\n    </tr>\n    <tr>\n      <th>89</th>\n      <td>881897068939989.mp3</td>\n      <td>dạ mobifone xin nghe em tên vy em xin phép đượ...</td>\n      <td>98.6400</td>\n    </tr>\n    <tr>\n      <th>90</th>\n      <td>881897068939990.mp3</td>\n      <td>dạ a lô a lô ạ a lô chào anh nha em bên mobifo...</td>\n      <td>70.2000</td>\n    </tr>\n    <tr>\n      <th>91</th>\n      <td>881897068939991.mp3</td>\n      <td>dạ mobifone xin nghe em là thủy em có thể giúp...</td>\n      <td>96.9600</td>\n    </tr>\n    <tr>\n      <th>92</th>\n      <td>881897068939992.mp3</td>\n      <td>dạ mobifone xin nghe em là minh anh em có thể ...</td>\n      <td>60.7200</td>\n    </tr>\n    <tr>\n      <th>93</th>\n      <td>881897068939993.mp3</td>\n      <td>dạ mobifone xin nghe em là lựu em có thể giúp ...</td>\n      <td>11.4600</td>\n    </tr>\n    <tr>\n      <th>94</th>\n      <td>881897068939994.mp3</td>\n      <td>a lô chào anh em gọi cho mình từ bên tổng đài ...</td>\n      <td>34.6800</td>\n    </tr>\n    <tr>\n      <th>95</th>\n      <td>881897068939995.mp3</td>\n      <td>ờ a lô a lô dạ xin chào anh ạ em là sim số chí...</td>\n      <td>74.5200</td>\n    </tr>\n    <tr>\n      <th>96</th>\n      <td>881897068939996.mp3</td>\n      <td>NaN</td>\n      <td>12.9675</td>\n    </tr>\n    <tr>\n      <th>97</th>\n      <td>881897068939997.mp3</td>\n      <td>dạ mobifone xin nghe em tên ngân em có thể giú...</td>\n      <td>21.0600</td>\n    </tr>\n    <tr>\n      <th>98</th>\n      <td>881897068939998.mp3</td>\n      <td>NaN</td>\n      <td>12.2850</td>\n    </tr>\n    <tr>\n      <th>99</th>\n      <td>881897068939999.mp3</td>\n      <td>NaN</td>\n      <td>11.6025</td>\n    </tr>\n  </tbody>\n</table>\n</div>"
     },
     "execution_count": 9,
     "metadata": {},
     "output_type": "execute_result"
    }
   ],
   "source": [
    "dev_set"
   ],
   "metadata": {
    "collapsed": false
   }
  },
  {
   "cell_type": "code",
   "execution_count": 13,
   "outputs": [],
   "source": [
    "dev_csv = pd.read_csv(\"./transcription/dev.csv\")\n",
    "train_csv = pd.read_csv(\"./transcription/train.csv\")"
   ],
   "metadata": {
    "collapsed": false
   }
  },
  {
   "cell_type": "code",
   "execution_count": 14,
   "outputs": [
    {
     "data": {
      "text/plain": "Index(['Unnamed: 0', 'path', 'transcript', 'duration'], dtype='object')"
     },
     "execution_count": 14,
     "metadata": {},
     "output_type": "execute_result"
    }
   ],
   "source": [
    "dev_csv.columns"
   ],
   "metadata": {
    "collapsed": false
   }
  },
  {
   "cell_type": "code",
   "execution_count": 15,
   "outputs": [
    {
     "data": {
      "text/plain": "                   path                                         transcript  \\\n0   881897068939980.mp3  dạ mobifone xin nghe em xin phép hỗ trợ anh ch...   \n1   881897068939981.mp3  tổng đài mobifone xin nghe em tên nhung có hỗ ...   \n2   881897068939982.mp3  dạ mobifone nghe em tên là yến em xin phép hỗ ...   \n3   881897068939983.mp3  dạ mobifone xin nghe em tên trang có thể hỗ tr...   \n4   881897068939984.mp3  dạ mobifone xin nghe em tên trân em xin phép h...   \n5   881897068939985.mp3  dạ a lô mobifone xin nghe tên giang xin phép đ...   \n6   881897068939986.mp3  a lô dạ a lô dạ em chào anh em tên hương gọi r...   \n7   881897068939987.mp3                                                NaN   \n8   881897068939988.mp3  dạ mobifone xin nghe em tên kiệt có thể hỗ trợ...   \n9   881897068939989.mp3  dạ mobifone xin nghe em tên vy em xin phép đượ...   \n10  881897068939990.mp3  dạ a lô a lô ạ a lô chào anh nha em bên mobifo...   \n11  881897068939991.mp3  dạ mobifone xin nghe em là thủy em có thể giúp...   \n12  881897068939992.mp3  dạ mobifone xin nghe em là minh anh em có thể ...   \n13  881897068939993.mp3  dạ mobifone xin nghe em là lựu em có thể giúp ...   \n14  881897068939994.mp3  a lô chào anh em gọi cho mình từ bên tổng đài ...   \n15  881897068939995.mp3  ờ a lô a lô dạ xin chào anh ạ em là sim số chí...   \n16  881897068939996.mp3                                                NaN   \n17  881897068939997.mp3  dạ mobifone xin nghe em tên ngân em có thể giú...   \n18  881897068939998.mp3                                                NaN   \n19  881897068939999.mp3                                                NaN   \n\n    duration  \n0    31.9200  \n1    53.6400  \n2    71.2200  \n3    84.3600  \n4   112.5600  \n5    20.7000  \n6    70.2600  \n7    15.0150  \n8     3.0000  \n9    98.6400  \n10   70.2000  \n11   96.9600  \n12   60.7200  \n13   11.4600  \n14   34.6800  \n15   74.5200  \n16   12.9675  \n17   21.0600  \n18   12.2850  \n19   11.6025  ",
      "text/html": "<div>\n<style scoped>\n    .dataframe tbody tr th:only-of-type {\n        vertical-align: middle;\n    }\n\n    .dataframe tbody tr th {\n        vertical-align: top;\n    }\n\n    .dataframe thead th {\n        text-align: right;\n    }\n</style>\n<table border=\"1\" class=\"dataframe\">\n  <thead>\n    <tr style=\"text-align: right;\">\n      <th></th>\n      <th>path</th>\n      <th>transcript</th>\n      <th>duration</th>\n    </tr>\n  </thead>\n  <tbody>\n    <tr>\n      <th>0</th>\n      <td>881897068939980.mp3</td>\n      <td>dạ mobifone xin nghe em xin phép hỗ trợ anh ch...</td>\n      <td>31.9200</td>\n    </tr>\n    <tr>\n      <th>1</th>\n      <td>881897068939981.mp3</td>\n      <td>tổng đài mobifone xin nghe em tên nhung có hỗ ...</td>\n      <td>53.6400</td>\n    </tr>\n    <tr>\n      <th>2</th>\n      <td>881897068939982.mp3</td>\n      <td>dạ mobifone nghe em tên là yến em xin phép hỗ ...</td>\n      <td>71.2200</td>\n    </tr>\n    <tr>\n      <th>3</th>\n      <td>881897068939983.mp3</td>\n      <td>dạ mobifone xin nghe em tên trang có thể hỗ tr...</td>\n      <td>84.3600</td>\n    </tr>\n    <tr>\n      <th>4</th>\n      <td>881897068939984.mp3</td>\n      <td>dạ mobifone xin nghe em tên trân em xin phép h...</td>\n      <td>112.5600</td>\n    </tr>\n    <tr>\n      <th>5</th>\n      <td>881897068939985.mp3</td>\n      <td>dạ a lô mobifone xin nghe tên giang xin phép đ...</td>\n      <td>20.7000</td>\n    </tr>\n    <tr>\n      <th>6</th>\n      <td>881897068939986.mp3</td>\n      <td>a lô dạ a lô dạ em chào anh em tên hương gọi r...</td>\n      <td>70.2600</td>\n    </tr>\n    <tr>\n      <th>7</th>\n      <td>881897068939987.mp3</td>\n      <td>NaN</td>\n      <td>15.0150</td>\n    </tr>\n    <tr>\n      <th>8</th>\n      <td>881897068939988.mp3</td>\n      <td>dạ mobifone xin nghe em tên kiệt có thể hỗ trợ...</td>\n      <td>3.0000</td>\n    </tr>\n    <tr>\n      <th>9</th>\n      <td>881897068939989.mp3</td>\n      <td>dạ mobifone xin nghe em tên vy em xin phép đượ...</td>\n      <td>98.6400</td>\n    </tr>\n    <tr>\n      <th>10</th>\n      <td>881897068939990.mp3</td>\n      <td>dạ a lô a lô ạ a lô chào anh nha em bên mobifo...</td>\n      <td>70.2000</td>\n    </tr>\n    <tr>\n      <th>11</th>\n      <td>881897068939991.mp3</td>\n      <td>dạ mobifone xin nghe em là thủy em có thể giúp...</td>\n      <td>96.9600</td>\n    </tr>\n    <tr>\n      <th>12</th>\n      <td>881897068939992.mp3</td>\n      <td>dạ mobifone xin nghe em là minh anh em có thể ...</td>\n      <td>60.7200</td>\n    </tr>\n    <tr>\n      <th>13</th>\n      <td>881897068939993.mp3</td>\n      <td>dạ mobifone xin nghe em là lựu em có thể giúp ...</td>\n      <td>11.4600</td>\n    </tr>\n    <tr>\n      <th>14</th>\n      <td>881897068939994.mp3</td>\n      <td>a lô chào anh em gọi cho mình từ bên tổng đài ...</td>\n      <td>34.6800</td>\n    </tr>\n    <tr>\n      <th>15</th>\n      <td>881897068939995.mp3</td>\n      <td>ờ a lô a lô dạ xin chào anh ạ em là sim số chí...</td>\n      <td>74.5200</td>\n    </tr>\n    <tr>\n      <th>16</th>\n      <td>881897068939996.mp3</td>\n      <td>NaN</td>\n      <td>12.9675</td>\n    </tr>\n    <tr>\n      <th>17</th>\n      <td>881897068939997.mp3</td>\n      <td>dạ mobifone xin nghe em tên ngân em có thể giú...</td>\n      <td>21.0600</td>\n    </tr>\n    <tr>\n      <th>18</th>\n      <td>881897068939998.mp3</td>\n      <td>NaN</td>\n      <td>12.2850</td>\n    </tr>\n    <tr>\n      <th>19</th>\n      <td>881897068939999.mp3</td>\n      <td>NaN</td>\n      <td>11.6025</td>\n    </tr>\n  </tbody>\n</table>\n</div>"
     },
     "execution_count": 15,
     "metadata": {},
     "output_type": "execute_result"
    }
   ],
   "source": [
    "dev_csv = dev_csv.drop('Unnamed: 0', axis=1)"
   ],
   "metadata": {
    "collapsed": false
   }
  },
  {
   "cell_type": "code",
   "execution_count": 17,
   "outputs": [],
   "source": [
    "dev_csv.to_csv(\"./transcription/dev.csv\")"
   ],
   "metadata": {
    "collapsed": false
   }
  },
  {
   "cell_type": "code",
   "execution_count": 18,
   "outputs": [],
   "source": [
    "train_csv = train_csv.drop('Unnamed: 0', axis=1)"
   ],
   "metadata": {
    "collapsed": false
   }
  },
  {
   "cell_type": "code",
   "execution_count": 19,
   "outputs": [],
   "source": [
    "train_csv.to_csv(\"./transcription/train.csv\")"
   ],
   "metadata": {
    "collapsed": false
   }
  },
  {
   "cell_type": "code",
   "execution_count": 26,
   "outputs": [],
   "source": [
    "import csv\n",
    "def csv2text(csv_path, txt_path):\n",
    "    with open(txt_path, \"wb\") as my_output_file:\n",
    "        with open(csv_path, \"rb\") as my_input_file:\n",
    "            reader = csv.reader(my_input_file)\n",
    "            # next(reader)  # skip the header\n",
    "            my_output_file.write('|'.join(row[0] for row in reader))"
   ],
   "metadata": {
    "collapsed": false
   }
  },
  {
   "cell_type": "code",
   "execution_count": null,
   "outputs": [],
   "source": [],
   "metadata": {
    "collapsed": false
   }
  }
 ],
 "metadata": {
  "kernelspec": {
   "display_name": "Python 3",
   "language": "python",
   "name": "python3"
  },
  "language_info": {
   "codemirror_mode": {
    "name": "ipython",
    "version": 2
   },
   "file_extension": ".py",
   "mimetype": "text/x-python",
   "name": "python",
   "nbconvert_exporter": "python",
   "pygments_lexer": "ipython2",
   "version": "2.7.6"
  }
 },
 "nbformat": 4,
 "nbformat_minor": 0
}
